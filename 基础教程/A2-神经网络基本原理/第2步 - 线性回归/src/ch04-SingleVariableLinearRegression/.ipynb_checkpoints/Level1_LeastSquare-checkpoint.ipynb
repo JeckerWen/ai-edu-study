{
 "cells": [
  {
   "cell_type": "code",
   "execution_count": 2,
   "id": "88d7ac58",
   "metadata": {},
   "outputs": [
    {
     "ename": "Exception",
     "evalue": "Cannot find train file!!!",
     "output_type": "error",
     "traceback": [
      "\u001b[1;31m---------------------------------------------------------------------------\u001b[0m",
      "\u001b[1;31mException\u001b[0m                                 Traceback (most recent call last)",
      "\u001b[1;32m~\\AppData\\Local\\Temp/ipykernel_18768/2679793618.py\u001b[0m in \u001b[0;36m<module>\u001b[1;34m\u001b[0m\n\u001b[0;32m     50\u001b[0m \u001b[1;33m\u001b[0m\u001b[0m\n\u001b[0;32m     51\u001b[0m     \u001b[0mreader\u001b[0m \u001b[1;33m=\u001b[0m \u001b[0mDataReader_1_0\u001b[0m\u001b[1;33m(\u001b[0m\u001b[0mfile_name\u001b[0m\u001b[1;33m)\u001b[0m\u001b[1;33m\u001b[0m\u001b[1;33m\u001b[0m\u001b[0m\n\u001b[1;32m---> 52\u001b[1;33m     \u001b[0mreader\u001b[0m\u001b[1;33m.\u001b[0m\u001b[0mReadData\u001b[0m\u001b[1;33m(\u001b[0m\u001b[1;33m)\u001b[0m\u001b[1;33m\u001b[0m\u001b[1;33m\u001b[0m\u001b[0m\n\u001b[0m\u001b[0;32m     53\u001b[0m     \u001b[0mX\u001b[0m\u001b[1;33m,\u001b[0m\u001b[0mY\u001b[0m \u001b[1;33m=\u001b[0m \u001b[0mreader\u001b[0m\u001b[1;33m.\u001b[0m\u001b[0mGetWholeTrainSamples\u001b[0m\u001b[1;33m(\u001b[0m\u001b[1;33m)\u001b[0m\u001b[1;33m\u001b[0m\u001b[1;33m\u001b[0m\u001b[0m\n\u001b[0;32m     54\u001b[0m     \u001b[0mm\u001b[0m \u001b[1;33m=\u001b[0m \u001b[0mX\u001b[0m\u001b[1;33m.\u001b[0m\u001b[0mshape\u001b[0m\u001b[1;33m[\u001b[0m\u001b[1;36m0\u001b[0m\u001b[1;33m]\u001b[0m\u001b[1;33m\u001b[0m\u001b[1;33m\u001b[0m\u001b[0m\n",
      "\u001b[1;32mF:\\Production\\Jupyter\\filebase\\ai-edu\\基础教程\\A2-神经网络基本原理\\第2步 - 线性回归\\src\\ch04-SingleVariableLinearRegression\\HelperClass\\DataReader_1_0.py\u001b[0m in \u001b[0;36mReadData\u001b[1;34m(self)\u001b[0m\n\u001b[0;32m     25\u001b[0m             \u001b[0mself\u001b[0m\u001b[1;33m.\u001b[0m\u001b[0mnum_train\u001b[0m \u001b[1;33m=\u001b[0m \u001b[0mself\u001b[0m\u001b[1;33m.\u001b[0m\u001b[0mXTrain\u001b[0m\u001b[1;33m.\u001b[0m\u001b[0mshape\u001b[0m\u001b[1;33m[\u001b[0m\u001b[1;36m0\u001b[0m\u001b[1;33m]\u001b[0m\u001b[1;33m\u001b[0m\u001b[1;33m\u001b[0m\u001b[0m\n\u001b[0;32m     26\u001b[0m         \u001b[1;32melse\u001b[0m\u001b[1;33m:\u001b[0m\u001b[1;33m\u001b[0m\u001b[1;33m\u001b[0m\u001b[0m\n\u001b[1;32m---> 27\u001b[1;33m             \u001b[1;32mraise\u001b[0m \u001b[0mException\u001b[0m\u001b[1;33m(\u001b[0m\u001b[1;34m\"Cannot find train file!!!\"\u001b[0m\u001b[1;33m)\u001b[0m\u001b[1;33m\u001b[0m\u001b[1;33m\u001b[0m\u001b[0m\n\u001b[0m\u001b[0;32m     28\u001b[0m         \u001b[1;31m#end if\u001b[0m\u001b[1;33m\u001b[0m\u001b[1;33m\u001b[0m\u001b[0m\n\u001b[0;32m     29\u001b[0m \u001b[1;33m\u001b[0m\u001b[0m\n",
      "\u001b[1;31mException\u001b[0m: Cannot find train file!!!"
     ]
    }
   ],
   "source": [
    "# Copyright (c) Microsoft. All rights reserved.\n",
    "# Licensed under the MIT license. See LICENSE file in the project root for full license information.\n",
    "\n",
    "# 用最小二乘法得到解析解LSE\n",
    "\n",
    "import numpy as np\n",
    "import matplotlib.pyplot as plt\n",
    "from pathlib import Path\n",
    "\n",
    "from HelperClass.DataReader_1_0 import *\n",
    "\n",
    "file_name = \"../data/ch04.npz\"\n",
    "\n",
    "# 根据公式13\n",
    "def method3(X,Y,m):\n",
    "    p = m*sum(X*Y) - sum(X)*sum(Y)\n",
    "    q = m*sum(X*X) - sum(X)*sum(X)\n",
    "    w = p/q\n",
    "    return w\n",
    "\n",
    "# 根据公式15\n",
    "def method1(X,Y,m):\n",
    "    x_mean = X.mean()\n",
    "    p = sum(Y*(X-x_mean))\n",
    "    q = sum(X*X) - sum(X)*sum(X)/m\n",
    "    w = p/q\n",
    "    return w\n",
    "\n",
    "# 根据公式16\n",
    "def method2(X,Y,m):\n",
    "    x_mean = X.mean()\n",
    "    y_mean = Y.mean()\n",
    "    p = sum(X*(Y-y_mean))\n",
    "    q = sum(X*X) - x_mean*sum(X)\n",
    "    w = p/q\n",
    "    return w\n",
    "\n",
    "\n",
    "# 根据公式14\n",
    "def calculate_b_1(X,Y,w,m):\n",
    "    b = sum(Y-w*X)/m\n",
    "    return b\n",
    "\n",
    "# 根据公式9\n",
    "def calculate_b_2(X,Y,w):\n",
    "    b = Y.mean() - w * X.mean()\n",
    "    return b\n",
    "\n",
    "if __name__ == '__main__':\n",
    "\n",
    "    reader = DataReader_1_0(file_name)\n",
    "    reader.ReadData()\n",
    "    X,Y = reader.GetWholeTrainSamples()\n",
    "    m = X.shape[0]\n",
    "    w1 = method1(X,Y,m)\n",
    "    b1 = calculate_b_1(X,Y,w1,m)\n",
    "\n",
    "    w2 = method2(X,Y,m)\n",
    "    b2 = calculate_b_2(X,Y,w2)\n",
    "\n",
    "    w3 = method3(X,Y,m)\n",
    "    b3 = calculate_b_1(X,Y,w3,m)\n",
    "\n",
    "    print(\"w1=%f, b1=%f\" % (w1,b1))\n",
    "    print(\"w2=%f, b2=%f\" % (w2,b2))\n",
    "    print(\"w3=%f, b3=%f\" % (w3,b3))\n",
    "\n"
   ]
  }
 ],
 "metadata": {
  "kernelspec": {
   "display_name": "Python 3 (ipykernel)",
   "language": "python",
   "name": "python3"
  },
  "language_info": {
   "codemirror_mode": {
    "name": "ipython",
    "version": 3
   },
   "file_extension": ".py",
   "mimetype": "text/x-python",
   "name": "python",
   "nbconvert_exporter": "python",
   "pygments_lexer": "ipython3",
   "version": "3.10.0"
  }
 },
 "nbformat": 4,
 "nbformat_minor": 5
}
