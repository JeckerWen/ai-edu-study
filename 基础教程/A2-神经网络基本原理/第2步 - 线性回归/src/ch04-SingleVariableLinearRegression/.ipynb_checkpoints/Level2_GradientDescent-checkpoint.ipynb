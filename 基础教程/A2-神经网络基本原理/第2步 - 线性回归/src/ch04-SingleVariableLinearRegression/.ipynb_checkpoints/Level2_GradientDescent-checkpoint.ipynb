{
 "cells": [
  {
   "cell_type": "code",
   "execution_count": 1,
   "id": "d2f50100",
   "metadata": {},
   "outputs": [
    {
     "name": "stdout",
     "output_type": "stream",
     "text": [
      "w= [1.71629006]\n",
      "b= [3.19684087]\n"
     ]
    }
   ],
   "source": [
    "# Copyright (c) Microsoft. All rights reserved.\n",
    "# Licensed under the MIT license. See LICENSE file in the project root for full license information.\n",
    "\n",
    "# 用单次迭代方式\n",
    "import numpy as np\n",
    "import matplotlib.pyplot as plt\n",
    "from pathlib import Path\n",
    "\n",
    "from HelperClass.DataReader_1_0 import *\n",
    "\n",
    "file_name = \"../../data/ch04.npz\"\n",
    "\n",
    "if __name__ == '__main__':\n",
    "\n",
    "    reader = DataReader_1_0(file_name)\n",
    "    reader.ReadData()\n",
    "    X,Y = reader.GetWholeTrainSamples()\n",
    "\n",
    "    eta = 0.1\n",
    "    w, b = 0.0, 0.0\n",
    "    for i in range(reader.num_train):\n",
    "        # get x and y value for one sample\n",
    "        xi = X[i]\n",
    "        yi = Y[i]\n",
    "        # 公式1\n",
    "        zi = xi * w + b\n",
    "        # 公式3\n",
    "        dz = zi - yi\n",
    "        # 公式4\n",
    "        dw = dz * xi\n",
    "        # 公式5\n",
    "        db = dz\n",
    "        # update w,b\n",
    "        w = w - eta * dw\n",
    "        b = b - eta * db\n",
    "\n",
    "    print(\"w=\", w)    \n",
    "    print(\"b=\", b)"
   ]
  },
  {
   "cell_type": "code",
   "execution_count": null,
   "id": "d806aa2d",
   "metadata": {},
   "outputs": [],
   "source": []
  }
 ],
 "metadata": {
  "kernelspec": {
   "display_name": "Python 3 (ipykernel)",
   "language": "python",
   "name": "python3"
  },
  "language_info": {
   "codemirror_mode": {
    "name": "ipython",
    "version": 3
   },
   "file_extension": ".py",
   "mimetype": "text/x-python",
   "name": "python",
   "nbconvert_exporter": "python",
   "pygments_lexer": "ipython3",
   "version": "3.10.0"
  }
 },
 "nbformat": 4,
 "nbformat_minor": 5
}
