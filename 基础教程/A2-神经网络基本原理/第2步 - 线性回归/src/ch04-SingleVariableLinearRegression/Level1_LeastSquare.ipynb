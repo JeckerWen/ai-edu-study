{
 "cells": [
  {
   "cell_type": "code",
   "execution_count": 13,
   "id": "d2f50100",
   "metadata": {},
   "outputs": [
    {
     "name": "stdout",
     "output_type": "stream",
     "text": [
      "w1=2.056827, b1=2.965434\n",
      "w2=2.056827, b2=2.965434\n",
      "w3=2.056827, b3=2.965434\n"
     ]
    }
   ],
   "source": [
    "# Copyright (c) Microsoft. All rights reserved.\n",
    "# Licensed under the MIT license. See LICENSE file in the project root for full license information.\n",
    "\n",
    "# 用最小二乘法得到解析解LSE\n",
    "\n",
    "import numpy as np\n",
    "import matplotlib.pyplot as plt\n",
    "from pathlib import Path\n",
    "\n",
    "from HelperClass.DataReader_1_0 import *\n",
    "\n",
    "file_name = \"../../data/ch04.npz\"\n",
    "\n",
    "# 根据公式13\n",
    "def method3(X,Y,m):\n",
    "    p = m*sum(X*Y) - sum(X)*sum(Y)\n",
    "    q = m*sum(X*X) - sum(X)*sum(X)\n",
    "    w = p/q\n",
    "    return w\n",
    "\n",
    "# 根据公式15\n",
    "def method1(X,Y,m):\n",
    "    x_mean = X.mean()\n",
    "    p = sum(Y*(X-x_mean))\n",
    "    q = sum(X*X) - sum(X)*sum(X)/m\n",
    "    w = p/q\n",
    "    return w\n",
    "\n",
    "# 根据公式16\n",
    "def method2(X,Y,m):\n",
    "    x_mean = X.mean()\n",
    "    y_mean = Y.mean()\n",
    "    p = sum(X*(Y-y_mean))\n",
    "    q = sum(X*X) - x_mean*sum(X)\n",
    "    w = p/q\n",
    "    return w\n",
    "\n",
    "\n",
    "# 根据公式14\n",
    "def calculate_b_1(X,Y,w,m):\n",
    "    b = sum(Y-w*X)/m\n",
    "    return b\n",
    "\n",
    "# 根据公式9\n",
    "def calculate_b_2(X,Y,w):\n",
    "    b = Y.mean() - w * X.mean()\n",
    "    return b\n",
    "\n",
    "if __name__ == '__main__':\n",
    "\n",
    "    reader = DataReader_1_0(file_name)\n",
    "    reader.ReadData()\n",
    "    X,Y = reader.GetWholeTrainSamples()\n",
    "    m = X.shape[0]\n",
    "    w1 = method1(X,Y,m)\n",
    "    b1 = calculate_b_1(X,Y,w1,m)\n",
    "\n",
    "    w2 = method2(X,Y,m)\n",
    "    b2 = calculate_b_2(X,Y,w2)\n",
    "\n",
    "    w3 = method3(X,Y,m)\n",
    "    b3 = calculate_b_1(X,Y,w3,m)\n",
    "\n",
    "    print(\"w1=%f, b1=%f\" % (w1,b1))\n",
    "    print(\"w2=%f, b2=%f\" % (w2,b2))\n",
    "    print(\"w3=%f, b3=%f\" % (w3,b3))\n",
    "\n"
   ]
  },
  {
   "cell_type": "code",
   "execution_count": null,
   "id": "d806aa2d",
   "metadata": {},
   "outputs": [],
   "source": []
  }
 ],
 "metadata": {
  "kernelspec": {
   "display_name": "Python 3 (ipykernel)",
   "language": "python",
   "name": "python3"
  },
  "language_info": {
   "codemirror_mode": {
    "name": "ipython",
    "version": 3
   },
   "file_extension": ".py",
   "mimetype": "text/x-python",
   "name": "python",
   "nbconvert_exporter": "python",
   "pygments_lexer": "ipython3",
   "version": "3.10.0"
  }
 },
 "nbformat": 4,
 "nbformat_minor": 5
}
